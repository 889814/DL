{
 "cells": [
  {
   "cell_type": "code",
   "execution_count": 90,
   "id": "fb5afe9b-1a5b-4cbf-bcc7-d15634e9343f",
   "metadata": {},
   "outputs": [],
   "source": [
    "import numpy as np\n",
    "import pandas as pd\n",
    "import matplotlib.pyplot as plt\n",
    "import sklearn"
   ]
  },
  {
   "cell_type": "code",
   "execution_count": 131,
   "id": "fd54271b-f7c9-4d62-abbb-ad05227c55d4",
   "metadata": {},
   "outputs": [],
   "source": [
    "def sigmoid(x):\n",
    "    return 1/(1+np.exp(-x))"
   ]
  },
  {
   "cell_type": "code",
   "execution_count": 92,
   "id": "68a2a35f-1205-435e-a159-d4bc247c777f",
   "metadata": {},
   "outputs": [],
   "source": [
    "def derivative_sigmoid(x):\n",
    "    return x*(1-x)"
   ]
  },
  {
   "cell_type": "code",
   "execution_count": 93,
   "id": "e870f70b-7ddd-4d84-b43f-88e8132308a2",
   "metadata": {},
   "outputs": [],
   "source": [
    "def mean_squared_error(yact,ypred):\n",
    "    return np.mean((yact-ypred)**2)"
   ]
  },
  {
   "cell_type": "code",
   "execution_count": 139,
   "id": "dfb7499a-2c4d-416c-a605-725c874ead84",
   "metadata": {},
   "outputs": [],
   "source": [
    "#inputs and outputs\n",
    "input = np.array([[1,0]])\n",
    "output = np.array([[1]])"
   ]
  },
  {
   "cell_type": "code",
   "execution_count": 112,
   "id": "25185834-f596-4c5e-8dbb-14968bb85751",
   "metadata": {},
   "outputs": [],
   "source": [
    "#input, hidden and output sizes\n",
    "input_size = 2\n",
    "hidden_size = 2\n",
    "output_size = 1"
   ]
  },
  {
   "cell_type": "code",
   "execution_count": 113,
   "id": "4e1ecaeb-1741-46e2-9714-a858d64827f2",
   "metadata": {},
   "outputs": [],
   "source": [
    "np.random.seed(42)"
   ]
  },
  {
   "cell_type": "code",
   "execution_count": 114,
   "id": "a793e6f2-bda9-4db2-a24a-3c211e89a786",
   "metadata": {},
   "outputs": [
    {
     "name": "stdout",
     "output_type": "stream",
     "text": [
      "\n",
      "w1 is\n",
      " [[0.1 0.2]\n",
      " [0.3 0.4]]\n",
      "\n",
      "b1 is\n",
      " [[0.1]\n",
      " [0.2]]\n",
      "\n",
      "w2 is\n",
      " [[0.5]\n",
      " [0.6]]\n",
      "\n",
      "b2 is\n",
      " [0.3]\n"
     ]
    }
   ],
   "source": [
    "w1 = np.array([[0.1,0.2],[0.3,0.4]])\n",
    "b1= np.array([[0.1],[0.2]])\n",
    "w2 = np.array([[0.5],[0.6]])\n",
    "b2 = np.array([0.3])\n",
    "lr = 0.1\n",
    "print(\"\\nw1 is\\n\", w1)\n",
    "print(\"\\nb1 is\\n\", b1)\n",
    "print(\"\\nw2 is\\n\", w2)\n",
    "print(\"\\nb2 is\\n\", b2)"
   ]
  },
  {
   "cell_type": "code",
   "execution_count": 115,
   "id": "6943417a-5e13-4643-a276-192bba1abfab",
   "metadata": {},
   "outputs": [],
   "source": [
    "#initialize weights\n",
    "#w2 = np.random.randn(hidden_size, output_size)\n",
    "#b2 = np.random.randn(output_size)\n",
    "\n",
    "#w1 = np.random.randn(input_size, hidden_size)\n",
    "#b1 = np.random.randn(hidden_size)"
   ]
  },
  {
   "cell_type": "code",
   "execution_count": 140,
   "id": "71662772-358c-4d7a-95dd-906e09253393",
   "metadata": {},
   "outputs": [
    {
     "name": "stdout",
     "output_type": "stream",
     "text": [
      "a1 is\n",
      " [[0.2]\n",
      " [0.5]]\n",
      "\n",
      "h1 is\n",
      " [[0.549834  ]\n",
      " [0.62245933]]\n",
      "\n",
      "a2 is\n",
      " [[0.9483926]]\n",
      "\n",
      "h2 is\n",
      " [[0.7207918]]\n",
      "\n",
      "error is\n",
      " [[-0.2792082]]\n",
      "\n",
      "loss is\n",
      " 0.07795721810651235\n",
      "\n",
      "gradient2 is\n",
      " [[-0.05619092]]\n",
      "\n",
      "gradient1 is\n",
      " [[-0.00695409 -0.00834491]\n",
      " [-0.00660254 -0.00792305]]\n"
     ]
    }
   ],
   "source": [
    "a1 = np.dot(w1, input.T) + b1\n",
    "h1 = sigmoid(a1)\n",
    "\n",
    "print(\"a1 is\\n\", a1)\n",
    "print(\"\\nh1 is\\n\", h1)\n",
    "\n",
    "a2 = np.dot(w2.T, h1) + b2\n",
    "h2 = np.array(sigmoid(a2))\n",
    "\n",
    "print(\"\\na2 is\\n\", a2)\n",
    "print(\"\\nh2 is\\n\", h2)\n",
    "\n",
    "error = h2 - output\n",
    "\n",
    "loss = mean_squared_error(output, h2)\n",
    "\n",
    "\n",
    "print(\"\\nerror is\\n\", error)\n",
    "print(\"\\nloss is\\n\", loss)\n",
    "\n",
    "\n",
    "gradient2 = error*derivative_sigmoid(h2)\n",
    "error_hidden = gradient2.dot(w2.T)\n",
    "gradient1 = error_hidden * derivative_sigmoid(h1)\n",
    "\n",
    "\n",
    "\n",
    "print(\"\\ngradient2 is\\n\", gradient2)\n",
    "print(\"\\ngradient1 is\\n\", gradient1)"
   ]
  },
  {
   "cell_type": "code",
   "execution_count": 144,
   "id": "dced1cb7-66ac-464c-b745-55dacd44b805",
   "metadata": {},
   "outputs": [
    {
     "ename": "ValueError",
     "evalue": "shapes (1,2) and (1,1) not aligned: 2 (dim 1) != 1 (dim 0)",
     "output_type": "error",
     "traceback": [
      "\u001b[1;31m---------------------------------------------------------------------------\u001b[0m",
      "\u001b[1;31mValueError\u001b[0m                                Traceback (most recent call last)",
      "Cell \u001b[1;32mIn[144], line 1\u001b[0m\n\u001b[1;32m----> 1\u001b[0m w2\u001b[38;5;241m+\u001b[39m\u001b[38;5;241m=\u001b[39mlr\u001b[38;5;241m*\u001b[39mh1\u001b[38;5;241m.\u001b[39mT\u001b[38;5;241m.\u001b[39mdot(gradient2)\n\u001b[0;32m      2\u001b[0m w1 \u001b[38;5;241m+\u001b[39m\u001b[38;5;241m=\u001b[39m lr\u001b[38;5;241m*\u001b[39m\u001b[38;5;28minput\u001b[39m\u001b[38;5;241m.\u001b[39mT\u001b[38;5;241m.\u001b[39mdot(gradient1)\n\u001b[0;32m      4\u001b[0m b2 \u001b[38;5;241m+\u001b[39m\u001b[38;5;241m=\u001b[39m lr\u001b[38;5;241m*\u001b[39mnp\u001b[38;5;241m.\u001b[39mmean(gradient2, axis \u001b[38;5;241m=\u001b[39m \u001b[38;5;241m0\u001b[39m)\n",
      "\u001b[1;31mValueError\u001b[0m: shapes (1,2) and (1,1) not aligned: 2 (dim 1) != 1 (dim 0)"
     ]
    }
   ],
   "source": [
    "w2+=lr*h1.T.dot(gradient2)\n",
    "w1 += lr*input.T.dot(gradient1)\n",
    "\n",
    "b2 += lr*np.mean(gradient2, axis = 0)\n",
    "b2 += lr*np.mean(gradient1, axis = 0)\n",
    "\n",
    "print(\"\\nw1 is\\n\", w1)\n",
    "print(\"\\nb1 is\\n\", b1)\n",
    "print(\"\\nw2 is\\n\", w2)\n",
    "print(\"\\nb2 is\\n\", b2)"
   ]
  },
  {
   "cell_type": "code",
   "execution_count": 145,
   "id": "8994f9fc-0bc5-4fa5-a859-841648d23a51",
   "metadata": {},
   "outputs": [
    {
     "ename": "ValueError",
     "evalue": "shapes (1,2) and (1,1) not aligned: 2 (dim 1) != 1 (dim 0)",
     "output_type": "error",
     "traceback": [
      "\u001b[1;31m---------------------------------------------------------------------------\u001b[0m",
      "\u001b[1;31mValueError\u001b[0m                                Traceback (most recent call last)",
      "Cell \u001b[1;32mIn[145], line 2\u001b[0m\n\u001b[0;32m      1\u001b[0m \u001b[38;5;66;03m# Update weights\u001b[39;00m\n\u001b[1;32m----> 2\u001b[0m w2 \u001b[38;5;241m+\u001b[39m\u001b[38;5;241m=\u001b[39m lr \u001b[38;5;241m*\u001b[39m h1\u001b[38;5;241m.\u001b[39mT\u001b[38;5;241m.\u001b[39mdot(gradient2)  \u001b[38;5;66;03m# h1 is the activation from the previous layer\u001b[39;00m\n\u001b[0;32m      3\u001b[0m w1 \u001b[38;5;241m+\u001b[39m\u001b[38;5;241m=\u001b[39m lr \u001b[38;5;241m*\u001b[39m \u001b[38;5;28minput\u001b[39m\u001b[38;5;241m.\u001b[39mT\u001b[38;5;241m.\u001b[39mdot(gradient1)  \u001b[38;5;66;03m# input is the input to the network\u001b[39;00m\n\u001b[0;32m      5\u001b[0m \u001b[38;5;66;03m# Update biases (correcting bias update for each layer)\u001b[39;00m\n",
      "\u001b[1;31mValueError\u001b[0m: shapes (1,2) and (1,1) not aligned: 2 (dim 1) != 1 (dim 0)"
     ]
    }
   ],
   "source": [
    "# Update weights\n",
    "w2 += lr * h1.T.dot(gradient2)  # h1 is the activation from the previous layer\n",
    "w1 += lr * input.T.dot(gradient1)  # input is the input to the network\n",
    "\n",
    "# Update biases (correcting bias update for each layer)\n",
    "b2 += lr * np.mean(gradient2, axis=0)  # Only using gradient2 to update b2\n",
    "b1 += lr * np.mean(gradient1, axis=0)  # Using gradient1 to update b1\n",
    "\n",
    "# Print updated weights and biases\n",
    "print(\"\\nw1 is\\n\", w1)\n",
    "print(\"\\nb1 is\\n\", b1)\n",
    "print(\"\\nw2 is\\n\", w2)\n",
    "print(\"\\nb2 is\\n\", b2)"
   ]
  },
  {
   "cell_type": "code",
   "execution_count": 146,
   "id": "00e87ac4-b316-4123-a174-4f1c3dbdcfa0",
   "metadata": {},
   "outputs": [
    {
     "ename": "ValueError",
     "evalue": "shapes (2,1) and (2,2) not aligned: 1 (dim 1) != 2 (dim 0)",
     "output_type": "error",
     "traceback": [
      "\u001b[1;31m---------------------------------------------------------------------------\u001b[0m",
      "\u001b[1;31mValueError\u001b[0m                                Traceback (most recent call last)",
      "Cell \u001b[1;32mIn[146], line 3\u001b[0m\n\u001b[0;32m      1\u001b[0m \u001b[38;5;66;03m# Update weights\u001b[39;00m\n\u001b[0;32m      2\u001b[0m w2 \u001b[38;5;241m+\u001b[39m\u001b[38;5;241m=\u001b[39m lr \u001b[38;5;241m*\u001b[39m h1\u001b[38;5;241m.\u001b[39mdot(gradient2\u001b[38;5;241m.\u001b[39mT)  \u001b[38;5;66;03m# Transpose gradient2 to align the shapes\u001b[39;00m\n\u001b[1;32m----> 3\u001b[0m w1 \u001b[38;5;241m+\u001b[39m\u001b[38;5;241m=\u001b[39m lr \u001b[38;5;241m*\u001b[39m \u001b[38;5;28minput\u001b[39m\u001b[38;5;241m.\u001b[39mT\u001b[38;5;241m.\u001b[39mdot(gradient1)\n\u001b[0;32m      5\u001b[0m \u001b[38;5;66;03m# Update biases\u001b[39;00m\n\u001b[0;32m      6\u001b[0m b2 \u001b[38;5;241m+\u001b[39m\u001b[38;5;241m=\u001b[39m lr \u001b[38;5;241m*\u001b[39m np\u001b[38;5;241m.\u001b[39mmean(gradient2, axis\u001b[38;5;241m=\u001b[39m\u001b[38;5;241m0\u001b[39m)\n",
      "\u001b[1;31mValueError\u001b[0m: shapes (2,1) and (2,2) not aligned: 1 (dim 1) != 2 (dim 0)"
     ]
    }
   ],
   "source": [
    "# Update weights\n",
    "w2 += lr * h1.dot(gradient2.T)  # Transpose gradient2 to align the shapes\n",
    "w1 += lr * input.T.dot(gradient1)\n",
    "\n",
    "# Update biases\n",
    "b2 += lr * np.mean(gradient2, axis=0)\n",
    "b1 += lr * np.mean(gradient1, axis=0)\n",
    "\n",
    "# Print updated weights and biases\n",
    "print(\"\\nw1 is\\n\", w1)\n",
    "print(\"\\nb1 is\\n\", b1)\n",
    "print(\"\\nw2 is\\n\", w2)\n",
    "print(\"\\nb2 is\\n\", b2)\n"
   ]
  },
  {
   "cell_type": "code",
   "execution_count": 153,
   "id": "5a07f4b7-8fae-48e1-9295-7050ad275ba3",
   "metadata": {},
   "outputs": [
    {
     "name": "stdout",
     "output_type": "stream",
     "text": [
      "\n",
      "w1 is\n",
      " [[0.09652295 0.19635026]\n",
      " [0.29652295 0.39635026]]\n",
      "\n",
      "b1 is\n",
      " [[0.1]\n",
      " [0.2]]\n",
      "\n",
      "w2 is\n",
      " [[0.46313287]\n",
      " [0.55986816]]\n",
      "\n",
      "b2 is\n",
      " [0.27752363]\n"
     ]
    },
    {
     "ename": "ValueError",
     "evalue": "non-broadcastable output operand with shape (2,1) doesn't match the broadcast shape (2,2)",
     "output_type": "error",
     "traceback": [
      "\u001b[1;31m---------------------------------------------------------------------------\u001b[0m",
      "\u001b[1;31mValueError\u001b[0m                                Traceback (most recent call last)",
      "Cell \u001b[1;32mIn[153], line 17\u001b[0m\n\u001b[0;32m     15\u001b[0m \u001b[38;5;66;03m# Update biases\u001b[39;00m\n\u001b[0;32m     16\u001b[0m b2 \u001b[38;5;241m+\u001b[39m\u001b[38;5;241m=\u001b[39m lr \u001b[38;5;241m*\u001b[39m np\u001b[38;5;241m.\u001b[39mmean(gradient2, axis\u001b[38;5;241m=\u001b[39m\u001b[38;5;241m0\u001b[39m)  \u001b[38;5;66;03m# gradient2 should be (N, 1)\u001b[39;00m\n\u001b[1;32m---> 17\u001b[0m b1 \u001b[38;5;241m+\u001b[39m\u001b[38;5;241m=\u001b[39m lr \u001b[38;5;241m*\u001b[39m np\u001b[38;5;241m.\u001b[39mmean(gradient1, axis\u001b[38;5;241m=\u001b[39m\u001b[38;5;241m0\u001b[39m)  \u001b[38;5;66;03m# gradient1 should be (N, 2)\u001b[39;00m\n\u001b[0;32m     19\u001b[0m \u001b[38;5;66;03m# Print updated weights and biases\u001b[39;00m\n\u001b[0;32m     20\u001b[0m \u001b[38;5;28mprint\u001b[39m(\u001b[38;5;124m\"\u001b[39m\u001b[38;5;130;01m\\n\u001b[39;00m\u001b[38;5;124mw1 is\u001b[39m\u001b[38;5;130;01m\\n\u001b[39;00m\u001b[38;5;124m\"\u001b[39m, w1)\n",
      "\u001b[1;31mValueError\u001b[0m: non-broadcastable output operand with shape (2,1) doesn't match the broadcast shape (2,2)"
     ]
    }
   ],
   "source": [
    "# Assuming shapes of:\n",
    "# input shape (N, 2) for N samples\n",
    "# w1 shape (2, 2) for 2 inputs to 2 neurons\n",
    "# w2 shape (2, 1) for 2 inputs to 1 output\n",
    "# gradient1 shape (N, 2) if it corresponds to 2 neurons\n",
    "# gradient2 shape (N, 1) if it corresponds to 1 output neuron\n",
    "\n",
    "# Update weights\n",
    "w2 += lr * h1.dot(gradient2)  # Ensure h1 is (N, 2) and gradient2 is (N, 1)\n",
    "w1 += lr * input.dot(gradient1.T)  # Ensure input.T is (2, N) and gradient1 is (N, 2)\n",
    "print(\"\\nw1 is\\n\", w1)\n",
    "print(\"\\nb1 is\\n\", b1)\n",
    "print(\"\\nw2 is\\n\", w2)\n",
    "print(\"\\nb2 is\\n\", b2)\n",
    "# Update biases\n",
    "b2 += lr * np.mean(gradient2, axis=0)  # gradient2 should be (N, 1)\n",
    "b1 += lr * np.mean(gradient1, axis=0)  # gradient1 should be (N, 2)\n",
    "\n",
    "# Print updated weights and biases\n",
    "print(\"\\nw1 is\\n\", w1)\n",
    "print(\"\\nb1 is\\n\", b1)\n",
    "print(\"\\nw2 is\\n\", w2)\n",
    "print(\"\\nb2 is\\n\", b2)\n",
    "\n"
   ]
  }
 ],
 "metadata": {
  "kernelspec": {
   "display_name": "Python 3 (ipykernel)",
   "language": "python",
   "name": "python3"
  },
  "language_info": {
   "codemirror_mode": {
    "name": "ipython",
    "version": 3
   },
   "file_extension": ".py",
   "mimetype": "text/x-python",
   "name": "python",
   "nbconvert_exporter": "python",
   "pygments_lexer": "ipython3",
   "version": "3.11.5"
  }
 },
 "nbformat": 4,
 "nbformat_minor": 5
}
