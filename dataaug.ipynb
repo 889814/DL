{
 "cells": [
  {
   "cell_type": "code",
   "execution_count": null,
   "id": "0e3c85ff-976f-4a27-9466-e1f0e758bae8",
   "metadata": {},
   "outputs": [],
   "source": [
    "import tensorflow as tf\n",
    "from tensorflow.keras.preprocessing.image import ImageDataGenerator\n",
    "import matplotlib.pyplot as plt\n",
    "\n",
    "# Function to display images with titles\n",
    "def display_images(images, titles):\n",
    "    plt.figure(figsize=(15, 10))\n",
    "    for i, (img, title) in enumerate(zip(images, titles)):\n",
    "        plt.subplot(2, len(images)//2 + 1, i + 1)\n",
    "        plt.imshow(tf.keras.preprocessing.image.array_to_img(img))\n",
    "        plt.title(title)\n",
    "        plt.axis('off')\n",
    "    plt.show()\n",
    "\n",
    "# Load an image\n",
    "img_path = \" \"  # Replace with your image path\n",
    "img = tf.keras.preprocessing.image.load_img(img_path)\n",
    "img_array = tf.keras.preprocessing.image.img_to_array(img)\n",
    "img_array = img_array.reshape((1,) + img_array.shape)\n",
    "\n",
    "# List to hold transformed images and their titles\n",
    "images = [img_array[0]]\n",
    "titles = ['Original Image']\n",
    "\n",
    "# Geometric transformations\n",
    "transformations = {\n",
    "    'Rotation': ImageDataGenerator(rotation_range=40),\n",
    "    'Width Shift': ImageDataGenerator(width_shift_range=0.2),\n",
    "    'Height Shift': ImageDataGenerator(height_shift_range=0.2),\n",
    "    'Shear': ImageDataGenerator(shear_range=0.2),\n",
    "    'Zoom': ImageDataGenerator(zoom_range=0.2),\n",
    "    'Horizontal Flip': ImageDataGenerator(horizontal_flip=True)\n",
    "}\n",
    "\n",
    "# Apply each geometric transformation\n",
    "for title, gen in transformations.items():\n",
    "    transformed_img = next(gen.flow(img_array, batch_size=1))[0]\n",
    "    images.append(transformed_img)\n",
    "    titles.append(title)\n",
    "\n",
    "# Display all images\n",
    "display_images(images, titles)\n"
   ]
  }
 ],
 "metadata": {
  "kernelspec": {
   "display_name": "Python 3 (ipykernel)",
   "language": "python",
   "name": "python3"
  },
  "language_info": {
   "codemirror_mode": {
    "name": "ipython",
    "version": 3
   },
   "file_extension": ".py",
   "mimetype": "text/x-python",
   "name": "python",
   "nbconvert_exporter": "python",
   "pygments_lexer": "ipython3",
   "version": "3.11.5"
  }
 },
 "nbformat": 4,
 "nbformat_minor": 5
}
